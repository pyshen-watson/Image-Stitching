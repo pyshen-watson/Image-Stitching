{
 "cells": [
  {
   "cell_type": "code",
   "execution_count": 6,
   "metadata": {},
   "outputs": [],
   "source": [
    "from Global.envs import ALBUM_PATH  as PATH\n",
    "from Global.envs import ALBUM_NAMES as NAMES\n",
    "from Global.envs import ALBUM_LINKS as LINKS\n",
    "from Global.envs import ALBUM_TYPES as TYPES\n",
    "\n",
    "try:\n",
    "    image_id = int(input())\n",
    "except:\n",
    "    image_id = 0\n",
    "\n",
    "dirs = [ f'{PATH}[{image_id}]{NAMES[image_id]}/{t}/'for t in TYPES]"
   ]
  },
  {
   "cell_type": "code",
   "execution_count": null,
   "metadata": {},
   "outputs": [],
   "source": [
    "from Downloader import download_all\n",
    "download_all(LINKS[image_id], dirs[0])"
   ]
  },
  {
   "cell_type": "code",
   "execution_count": null,
   "metadata": {},
   "outputs": [],
   "source": [
    "from Reprojector import reproject_all\n",
    "reproject_all(dirs[0], dirs[1])"
   ]
  },
  {
   "cell_type": "code",
   "execution_count": null,
   "metadata": {},
   "outputs": [],
   "source": [
    "from Detector import detect_all\n",
    "detect_all(dirs[1], dirs[2])"
   ]
  },
  {
   "cell_type": "code",
   "execution_count": null,
   "metadata": {},
   "outputs": [],
   "source": [
    "from Descriptor import describe_all\n",
    "describe_all(dirs[1], dirs[2], dirs[3])"
   ]
  },
  {
   "cell_type": "code",
   "execution_count": null,
   "metadata": {},
   "outputs": [],
   "source": [
    "from Matcher import match_all\n",
    "match_all(dirs[1], dirs[3], dirs[4])"
   ]
  },
  {
   "cell_type": "code",
   "execution_count": null,
   "metadata": {},
   "outputs": [],
   "source": [
    "from Stiticher import stitch_all\n",
    "stitch_all(dirs[1], dirs[4], dirs[5])"
   ]
  },
  {
   "cell_type": "code",
   "execution_count": 7,
   "metadata": {},
   "outputs": [
    {
     "name": "stdout",
     "output_type": "stream",
     "text": [
      "Write paranoma at /home/watson/tmp/image-stitching/[2]Balcony/6_Optimized/Panorama.png\n"
     ]
    }
   ],
   "source": [
    "from Optimizer import optimize\n",
    "optimize(dirs[5], dirs[6])"
   ]
  }
 ],
 "metadata": {
  "interpreter": {
   "hash": "254fd7669cc82bdb530273ce4841c58121e7e7e3b69ca981fee30bee8cc072db"
  },
  "kernelspec": {
   "display_name": "Python 3.7.5 ('image-stitching-BKud8jhb')",
   "language": "python",
   "name": "python3"
  },
  "language_info": {
   "codemirror_mode": {
    "name": "ipython",
    "version": 3
   },
   "file_extension": ".py",
   "mimetype": "text/x-python",
   "name": "python",
   "nbconvert_exporter": "python",
   "pygments_lexer": "ipython3",
   "version": "3.7.5"
  },
  "orig_nbformat": 4
 },
 "nbformat": 4,
 "nbformat_minor": 2
}
