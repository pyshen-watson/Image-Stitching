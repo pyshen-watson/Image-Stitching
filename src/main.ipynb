{
 "cells": [
  {
   "cell_type": "code",
   "execution_count": 12,
   "metadata": {},
   "outputs": [],
   "source": [
    "from Global.envs import ALBUM_PATH  as PATH\n",
    "from Global.envs import ALBUM_NAMES as NAMES\n",
    "from Global.envs import ALBUM_LINKS as LINKS\n",
    "from Global.envs import ALBUM_TYPES as TYPES"
   ]
  },
  {
   "cell_type": "code",
   "execution_count": null,
   "metadata": {},
   "outputs": [],
   "source": [
    "try:\n",
    "    image_id = int(input())\n",
    "except: \n",
    "    image_id = 0\n",
    "    \n",
    "dirs = [ f'{PATH}[{image_id}]{NAMES[image_id]}/{t}/'for t in TYPES]"
   ]
  },
  {
   "cell_type": "code",
   "execution_count": 2,
   "metadata": {},
   "outputs": [
    {
     "name": "stderr",
     "output_type": "stream",
     "text": [
      "Downloading...\n",
      "From: https://drive.google.com/uc?id=1iNbX_1-1XHSTabKGYwV6m9MWilC1XCfs\n",
      "To: /home/watson/tmp/image-stitching/[4]Balcony/0_Original/temp.zip\n",
      "100%|██████████| 25.0M/25.0M [00:02<00:00, 11.1MB/s]\n"
     ]
    }
   ],
   "source": [
    "from Downloader import download_all\n",
    "download_all(LINKS[image_id], dirs[0])"
   ]
  },
  {
   "cell_type": "code",
   "execution_count": 3,
   "metadata": {},
   "outputs": [
    {
     "name": "stderr",
     "output_type": "stream",
     "text": [
      "Reprojecting: 100%|██████████| 8/8 [00:03<00:00,  2.09it/s]\n"
     ]
    }
   ],
   "source": [
    "from Reprojector import reproject_all\n",
    "reproject_all(dirs[0], dirs[1])"
   ]
  },
  {
   "cell_type": "code",
   "execution_count": 4,
   "metadata": {},
   "outputs": [
    {
     "name": "stderr",
     "output_type": "stream",
     "text": [
      "Detecting: 100%|██████████| 8/8 [00:28<00:00,  3.62s/it]\n"
     ]
    }
   ],
   "source": [
    "from Detector import detect_all\n",
    "detect_all(dirs[1], dirs[2])"
   ]
  },
  {
   "cell_type": "code",
   "execution_count": 5,
   "metadata": {},
   "outputs": [
    {
     "name": "stderr",
     "output_type": "stream",
     "text": [
      "Describing: 100%|██████████| 8/8 [00:05<00:00,  1.52it/s]\n"
     ]
    }
   ],
   "source": [
    "from Descriptor import describe_all\n",
    "describe_all(dirs[1], dirs[2], dirs[3])"
   ]
  },
  {
   "cell_type": "code",
   "execution_count": 6,
   "metadata": {},
   "outputs": [
    {
     "name": "stderr",
     "output_type": "stream",
     "text": [
      "Matching: 100%|██████████| 7/7 [00:24<00:00,  3.51s/it]\n"
     ]
    }
   ],
   "source": [
    "from Matcher import match_all\n",
    "match_all(dirs[1], dirs[3], dirs[4])"
   ]
  },
  {
   "cell_type": "code",
   "execution_count": 7,
   "metadata": {},
   "outputs": [
    {
     "name": "stdout",
     "output_type": "stream",
     "text": [
      "x: 0~1752  y: 0~9417\n"
     ]
    },
    {
     "name": "stderr",
     "output_type": "stream",
     "text": [
      "Stitching: 100%|██████████| 7/7 [00:09<00:00,  1.42s/it]\n"
     ]
    }
   ],
   "source": [
    "from Stiticher import stitch_all\n",
    "stitch_all(dirs[1], dirs[4], dirs[5])"
   ]
  },
  {
   "cell_type": "code",
   "execution_count": 8,
   "metadata": {},
   "outputs": [
    {
     "name": "stdout",
     "output_type": "stream",
     "text": [
      "Write paranoma at /home/watson/tmp/image-stitching/[4]Balcony/6_Optimized/Panorama.jpg\n"
     ]
    }
   ],
   "source": [
    "from Optimizer import optimize\n",
    "optimize(dirs[5], dirs[6])"
   ]
  }
 ],
 "metadata": {
  "interpreter": {
   "hash": "254fd7669cc82bdb530273ce4841c58121e7e7e3b69ca981fee30bee8cc072db"
  },
  "kernelspec": {
   "display_name": "Python 3.7.5 ('image-stitching-BKud8jhb')",
   "language": "python",
   "name": "python3"
  },
  "language_info": {
   "codemirror_mode": {
    "name": "ipython",
    "version": 3
   },
   "file_extension": ".py",
   "mimetype": "text/x-python",
   "name": "python",
   "nbconvert_exporter": "python",
   "pygments_lexer": "ipython3",
   "version": "3.7.5"
  },
  "orig_nbformat": 4
 },
 "nbformat": 4,
 "nbformat_minor": 2
}
